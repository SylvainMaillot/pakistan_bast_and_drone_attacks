{
  "metadata": {
    "kernelspec": {
      "display_name": "Python 3",
      "language": "python",
      "name": "python3"
    },
    "language_info": {
      "codemirror_mode": {
        "name": "ipython",
        "version": 3
      },
      "file_extension": ".py",
      "mimetype": "text/x-python",
      "name": "python",
      "nbconvert_exporter": "python",
      "pygments_lexer": "ipython3",
      "version": "3.6.0"
    }
  },
  "nbformat": 4,
  "nbformat_minor": 0,
  "cells": [
    {
      "cell_type": "code",
      "source": "import re\nimport math\nimport calendar\nimport numpy as np\nimport pandas as pd\n\nfrom pprint import pprint\nfrom datetime import datetime, date\n\ncsv = pd.read_csv(\"../input/PakistanDroneAttacksWithTemp Ver 4.csv\", encoding=\"latin1\")\n\ncsv.head()",
      "execution_count": null,
      "outputs": [],
      "metadata": {}
    },
    {
      "cell_type": "code",
      "source": "a = list(set(csv[\"Latitude\"]))[0]\nb = list(set(csv[\"Latitude\"]))[1]\n\n#remove rows with empty latitude or empty longitude\nclean_data_set = csv[csv[\"Latitude\"].isnull() != True]\nclean_data_set = clean_data_set[clean_data_set[\"Longitude\"].isnull() != True]",
      "execution_count": null,
      "outputs": [],
      "metadata": {}
    },
    {
      "cell_type": "code",
      "source": "#set the timestamp at the date place\ndef get_day_name(s):\n    return s.split(', ')[0]\n\nmonth = {\n    \"January\": 1,\n    \"February\": 2,\n    \"March\": 3,\n    \"April\": 4,\n    \"May\": 5,\n    \"June\": 6,\n    \"July\": 7,\n    \"August\": 8,\n    \"September\": 9,\n    \"October\": 10,\n    \"November\": 11,\n    \"December\": 12\n}\n\ndef get_month(s):\n    try:\n        return month[(s.split(\" \")[1].split()[0])]\n    except:\n        return -1\n\ndef get_day(s):\n    try:\n        return int(s.split(\", \")[1].split()[1])\n    except:\n        try:\n            return int(s.split(\", \")[2])\n        except:\n            return -1\n    \ndef get_year(s):\n    try:\n        return int(s.split(\" \")[-1])\n    except:\n        return -1\n\ndef get_timestamp(s):\n    try:\n        return int(date(get_year(s), get_month(s), get_day(s)).strftime(\"%s\"))\n    except:\n        return -1\n\n\nclean_data_set[\"day\"] = clean_data_set[\"Date\"].apply(get_day_name)\nclean_data_set[\"timestamp\"] = clean_data_set[\"Date\"].apply(get_timestamp)\n\nclean_data_set = clean_data_set.drop([\"Date\", \"Time\", \"Temperature(F)\", \"Province\"], axis=1)\n\nclean_data_set.head()",
      "execution_count": null,
      "outputs": [],
      "metadata": {}
    },
    {
      "cell_type": "code",
      "source": "clean_data_set.keys()",
      "execution_count": null,
      "outputs": [],
      "metadata": {}
    },
    {
      "cell_type": "code",
      "source": "#fill the nan values of nb killed: estimate the number of persons killed\n\nmin_number_killed_average = clean_data_set[\"Total Died Min\"].mean()\nmax_number_killed_average = clean_data_set[\"Total Died Mix\"].mean()\n\ndef estimate_number_killed(row):\n    if math.isnan(row[\"Total Died Min\"]) and math.isnan(row[\"Total Died Mix\"]):\n        return 0\n    elif math.isnan(row[\"Total Died Min\"]):\n        if min_number_killed_average < row[\"Total Died Mix\"]:\n            return (min_number_killed_average + row[\"Total Died Mix\"] * 2) / 3. #set bigger coeff to the know value\n        else:\n            return row[\"Total Died Mix\"] #if the average is bigger than the maxx kill, return the max kill\n    elif math.isnan(row[\"Total Died Mix\"]):\n        if max_number_killed_average > row[\"Total Died Min\"]:\n            return (max_number_killed_average + row[\"Total Died Min\"] * 2) / 3.\n        else:\n            return row[\"Total Died Min\"]\n    else:\n        return (row[\"Total Died Mix\"] + row[\"Total Died Min\"]) / 2.\n\n\nclean_data_set[\"nb_killed\"] = clean_data_set.apply(lambda r: int(estimate_number_killed(r)), axis=1)\nclean_data_set = clean_data_set.drop([\"Civilians Min\", \"Civilians Max\", \"Foreigners Min\", \"Foreigners Max\", \"Total Died Min\", \"Total Died Mix\"], axis=1)\n\nclean_data_set.head()",
      "execution_count": null,
      "outputs": [],
      "metadata": {}
    },
    {
      "cell_type": "code",
      "source": "#estimate the nb of injured people\nmin_number_inj_average = clean_data_set[\"Injured Min\"].mean()\nmax_number_inj_average = clean_data_set[\"Injured Max\"].mean()\n\ndef estimate_number_injured(row):\n    if math.isnan(row[\"Injured Min\"]) and math.isnan(row[\"Injured Max\"]):\n        return 0\n    elif math.isnan(row[\"Injured Min\"]):\n        if min_number_inj_average < row[\"Injured Max\"]:\n            return (min_number_inj_average + row[\"Injured Max\"] * 2) / 3. \n        else:\n            return row[\"Injured Max\"]\n    elif math.isnan(row[\"Injured Max\"]):\n        if max_number_inj_average > row[\"Injured Min\"]:\n            return (max_number_inj_average + row[\"Injured Min\"] * 2) / 3.\n        else:\n            return row[\"Injured Min\"]\n    else:\n        return (row[\"Injured Max\"] + row[\"Injured Min\"]) / 2.\n\n\nclean_data_set[\"nb_injured\"] = clean_data_set.apply(lambda r: int(estimate_number_injured(r)), axis=1)\nclean_data_set = clean_data_set.drop([\"Injured Min\", \"Injured Max\"], axis=1)\n\nclean_data_set.head()",
      "execution_count": null,
      "outputs": [],
      "metadata": {}
    },
    {
      "cell_type": "code",
      "source": "#estimate the nb of terro\nal_qaeda = clean_data_set[\"Al-Qaeda\"].mean()\ntaliban = clean_data_set[\"Taliban\"].mean()\n\ndef number_terro(row):\n    if math.isnan(row[\"Al-Qaeda\"]) and math.isnan(row[\"Taliban\"]):\n        return 0\n    elif math.isnan(row[\"Al-Qaeda\"]):\n        return row[\"Taliban\"]\n    elif math.isnan(row[\"Taliban\"]):\n        return row[\"Al-Qaeda\"]\n    else:\n        return (row[\"Al-Qaeda\"] + row[\"Taliban\"])\n\n\nclean_data_set[\"nb_terro_estimate\"] = clean_data_set.apply(lambda r: int(number_terro(r)), axis=1)\nclean_data_set = clean_data_set.drop([\"Al-Qaeda\", \"Taliban\", \"Special Mention (Site)\", \"Comments\", \"References\"], axis=1)\n\nclean_data_set.head()",
      "execution_count": null,
      "outputs": [],
      "metadata": {}
    },
    {
      "cell_type": "code",
      "source": "clean_data_set = clean_data_set.drop([\"Women/Children  \"],axis=1)\nclean_data_set.head()",
      "execution_count": null,
      "outputs": [],
      "metadata": {}
    },
    {
      "cell_type": "code",
      "source": "def civil_killed(row):\n    return (row[\"nb_killed\"] - row[\"nb_terro_estimate\"])\n\nclean_data_set[\"nb_killed\"] = clean_data_set.apply(lambda r: int(civil_killed(r)), axis=1)\nclean_data_set.head()",
      "execution_count": null,
      "outputs": [],
      "metadata": {}
    }
  ]
}